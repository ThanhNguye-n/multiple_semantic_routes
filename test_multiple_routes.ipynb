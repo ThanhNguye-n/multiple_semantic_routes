{
 "cells": [
  {
   "cell_type": "code",
   "execution_count": 1,
   "metadata": {},
   "outputs": [
    {
     "name": "stderr",
     "output_type": "stream",
     "text": [
      "/opt/anaconda3/envs/multimodal_rag/lib/python3.10/site-packages/tqdm/auto.py:21: TqdmWarning: IProgress not found. Please update jupyter and ipywidgets. See https://ipywidgets.readthedocs.io/en/stable/user_install.html\n",
      "  from .autonotebook import tqdm as notebook_tqdm\n"
     ]
    }
   ],
   "source": [
    "from semantic_router import Route\n",
    "\n",
    "time_route = Route(\n",
    "    name=\"get_time\",\n",
    "    utterances=[\n",
    "        \"what time is it?\",\n",
    "        \"when should I eat my next meal?\",\n",
    "        \"how long should I rest until training again?\",\n",
    "        \"when should I go to the gym?\",\n",
    "    ],\n",
    ")\n",
    "\n",
    "supplement_route = Route(\n",
    "    name=\"supplement_brand\",\n",
    "    utterances=[\n",
    "        \"what do you think of Optimum Nutrition?\",\n",
    "        \"what should I buy from MyProtein?\",\n",
    "        \"what brand for supplements would you recommend?\",\n",
    "        \"where should I get my whey protein?\",\n",
    "    ],\n",
    ")\n",
    "\n",
    "business_route = Route(\n",
    "    name=\"business_inquiry\",\n",
    "    utterances=[\n",
    "        \"how much is an hour training session?\",\n",
    "        \"do you do package discounts?\",\n",
    "        \"what are your rates?\",\n",
    "        \"can I book a session?\",\n",
    "        \"do you offer group classes?\",\n",
    "        \"how can I sign up for training?\",\n",
    "    ],\n",
    ")\n",
    "\n",
    "\n",
    "# we place both of our decisions together into single list\n",
    "routes = [time_route, supplement_route, business_route]"
   ]
  },
  {
   "cell_type": "code",
   "execution_count": 2,
   "metadata": {},
   "outputs": [],
   "source": [
    "from NewRouteLayer import MultipleRoute\n",
    "from semantic_router.encoders import HuggingFaceEncoder\n",
    "\n",
    "rl = MultipleRoute(encoder=HuggingFaceEncoder(), routes=routes)"
   ]
  },
  {
   "cell_type": "markdown",
   "metadata": {},
   "source": [
    "### Let's ask question to trigger time_route, the default strategy uses the threshold method."
   ]
  },
  {
   "cell_type": "code",
   "execution_count": 9,
   "metadata": {},
   "outputs": [
    {
     "data": {
      "text/plain": [
       "{'get_time': 0.7592955782040893}"
      ]
     },
     "execution_count": 9,
     "metadata": {},
     "output_type": "execute_result"
    }
   ],
   "source": [
    "choice_route_1 = rl.get_multiple_routes(text=\"what's the best time to work out?\",\n",
    "                                        multiple_threshold=0.4)\n",
    "choice_route_1"
   ]
  },
  {
   "cell_type": "markdown",
   "metadata": {},
   "source": [
    "### Ask another question related to both time_rooute and supplement_brand routes"
   ]
  },
  {
   "cell_type": "code",
   "execution_count": 17,
   "metadata": {},
   "outputs": [
    {
     "data": {
      "text/plain": [
       "{'get_time': 0.5471127252448034, 'supplement_brand': 0.5181753815107587}"
      ]
     },
     "execution_count": 17,
     "metadata": {},
     "output_type": "execute_result"
    }
   ],
   "source": [
    "choice_route_2 = rl.get_multiple_routes(text=\"When is the best time to take my protein supplement?\",\n",
    "                                        multiple_threshold=0.4)\n",
    "choice_route_2"
   ]
  },
  {
   "cell_type": "markdown",
   "metadata": {},
   "source": [
    "### Change to top_n strategy"
   ]
  },
  {
   "cell_type": "code",
   "execution_count": 18,
   "metadata": {},
   "outputs": [
    {
     "data": {
      "text/plain": [
       "{'get_time': 0.7592955782040893, 'business_inquiry': 0.28318825055252844}"
      ]
     },
     "execution_count": 18,
     "metadata": {},
     "output_type": "execute_result"
    }
   ],
   "source": [
    "choice_router_3 = rl.get_multiple_routes(text=\"what's the best time to work out?\",\n",
    "                                        multiple_threshold=0.4,\n",
    "                                        top_n=2,\n",
    "                                        strategy='top_n')\n",
    "choice_router_3         "
   ]
  },
  {
   "cell_type": "code",
   "execution_count": 19,
   "metadata": {},
   "outputs": [
    {
     "data": {
      "text/plain": [
       "{'get_time': 0.7592955782040893,\n",
       " 'business_inquiry': 0.28318825055252844,\n",
       " 'supplement_brand': 0.23822516363052454}"
      ]
     },
     "execution_count": 19,
     "metadata": {},
     "output_type": "execute_result"
    }
   ],
   "source": [
    "choice_router_4 = rl.get_multiple_routes(text=\"what's the best time to work out?\",\n",
    "                                        multiple_threshold=0.4,\n",
    "                                        top_n=3,\n",
    "                                        strategy='top_n')\n",
    "choice_router_4"
   ]
  },
  {
   "cell_type": "markdown",
   "metadata": {},
   "source": [
    "### What if we ask a question not relevant to any route ?"
   ]
  },
  {
   "cell_type": "code",
   "execution_count": 20,
   "metadata": {},
   "outputs": [
    {
     "data": {
      "text/plain": [
       "[]"
      ]
     },
     "execution_count": 20,
     "metadata": {},
     "output_type": "execute_result"
    }
   ],
   "source": [
    "choice_router_5 = rl.get_multiple_routes(text=\"how is semantic router works?\",\n",
    "                                        multiple_threshold=0.4)\n",
    "choice_router_5"
   ]
  }
 ],
 "metadata": {
  "kernelspec": {
   "display_name": "multimodal_rag",
   "language": "python",
   "name": "python3"
  },
  "language_info": {
   "codemirror_mode": {
    "name": "ipython",
    "version": 3
   },
   "file_extension": ".py",
   "mimetype": "text/x-python",
   "name": "python",
   "nbconvert_exporter": "python",
   "pygments_lexer": "ipython3",
   "version": "3.10.14"
  }
 },
 "nbformat": 4,
 "nbformat_minor": 2
}
